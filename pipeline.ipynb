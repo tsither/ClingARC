{
 "cells": [
  {
   "cell_type": "markdown",
   "id": "9370d992",
   "metadata": {},
   "source": [
    "# ClingARC Pipelines"
   ]
  },
  {
   "cell_type": "code",
   "execution_count": 1,
   "id": "86e688ff",
   "metadata": {},
   "outputs": [],
   "source": [
    "from utils import load_prompts, wholesale_solve, test_primitives, iterative_solve, build_and_eval\n",
    "\n",
    "import os\n",
    "from llm import LLM\n",
    "\n",
    "api_key = os.getenv(\"OPENAI_API_KEY\")\n",
    "llm = LLM(api_key)\n",
    "\n",
    "instance = \"train_instances/1\""
   ]
  },
  {
   "cell_type": "markdown",
   "id": "3f5b9b84",
   "metadata": {},
   "source": [
    "### Wholesale pipeline\n",
    "\n",
    "1. read (asp_program + facts)\n",
    "2. 'primitives' = run_clingo + print_models\n",
    "3. 'rule_explanation' = wholesale_pass('primitives')\n",
    "4. read (asp_program + test_facts)\n",
    "5. 'test_input_primitives' = run_clingo + print_models\n",
    "6. test_pass('rule_explanation','test_input_primitives')"
   ]
  },
  {
   "cell_type": "code",
   "execution_count": 2,
   "id": "2353ab8c",
   "metadata": {},
   "outputs": [
    {
     "name": "stdout",
     "output_type": "stream",
     "text": [
      "Results for grid3.lp:\n",
      "Input grid:\n",
      " grid_size(input,3,3) horizontal_line(input,start(0,1),end(0,2),color(gray),length(2)) point(input,(1,0),gray) point(input,(2,1),gray) vertical_line(input,start(0,2),end(1,2),color(gray),length(2))\n",
      "\n",
      "Output grid:\n",
      " grid_size(output,3,3) horizontal_line(output,start(0,0),end(0,2),color(yellow),length(3)) horizontal_line(output,start(1,0),end(1,2),color(green),length(3)) horizontal_line(output,start(2,0),end(2,2),color(yellow),length(3))\n",
      "\n",
      "========================================\n",
      "\n",
      "Results for grid2.lp:\n",
      "Input grid:\n",
      " grid_size(input,3,3) horizontal_line(input,start(1,0),end(1,1),color(gray),length(2)) horizontal_line(input,start(2,0),end(2,1),color(gray),length(2)) point(input,(0,2),gray) vertical_line(input,start(0,0),end(2,0),color(gray),length(3)) vertical_line(input,start(1,1),end(2,1),color(gray),length(2))\n",
      "\n",
      "Output grid:\n",
      " grid_size(output,3,3) horizontal_line(output,start(0,0),end(0,2),color(red),length(3)) horizontal_line(output,start(1,0),end(1,2),color(yellow),length(3)) horizontal_line(output,start(2,0),end(2,2),color(red),length(3))\n",
      "\n",
      "========================================\n",
      "\n",
      "Results for grid1.lp:\n",
      "Input grid:\n",
      " grid_size(input,3,3) horizontal_line(input,start(2,1),end(2,2),color(gray),length(2)) point(input,(1,0),gray) vertical_line(input,start(0,2),end(2,2),color(gray),length(3))\n",
      "\n",
      "Output grid:\n",
      " grid_size(output,3,3) horizontal_line(output,start(0,0),end(0,2),color(green),length(3)) horizontal_line(output,start(1,0),end(1,2),color(green),length(3)) horizontal_line(output,start(2,0),end(2,2),color(green),length(3)) vertical_line(output,start(0,0),end(2,0),color(green),length(3)) vertical_line(output,start(0,1),end(2,1),color(green),length(3)) vertical_line(output,start(0,2),end(2,2),color(green),length(3))\n",
      "\n",
      "========================================\n",
      "\n",
      "Results for grid0.lp:\n",
      "Input grid:\n",
      " grid_size(input,3,3) horizontal_line(input,start(1,0),end(1,1),color(gray),length(2)) horizontal_line(input,start(2,0),end(2,1),color(gray),length(2)) point(input,(0,2),gray) vertical_line(input,start(1,0),end(2,0),color(gray),length(2)) vertical_line(input,start(1,1),end(2,1),color(gray),length(2))\n",
      "\n",
      "Output grid:\n",
      " grid_size(output,3,3) horizontal_line(output,start(0,0),end(0,2),color(green),length(3)) horizontal_line(output,start(1,0),end(1,2),color(yellow),length(3)) horizontal_line(output,start(2,0),end(2,2),color(red),length(3))\n",
      "\n",
      "========================================\n",
      "\n"
     ]
    }
   ],
   "source": [
    "primitives_text = wholesale_solve(instance) #finds primitives in examples (except test input)\n",
    "print(primitives_text)"
   ]
  },
  {
   "cell_type": "code",
   "execution_count": null,
   "id": "437fc00e",
   "metadata": {},
   "outputs": [],
   "source": [
    "primitives_text = wholesale_solve(instance) #finds primitives in examples (except test input)\n",
    "# print(primitives_text)\n",
    "print('-- Primitives found in examples')\n",
    "\n",
    "rule_explanation = llm.call(\"wholesale_pass\", primitives=primitives_text, track_usage=False) #LLM call to predict transformation rules in examples\n",
    "\n",
    "print(f'Transformation rules predicted for examples:{rule_explanation}\\n')\n",
    "\n",
    "test_instance_path = os.path.join(instance, \"grid_test.lp\") \n",
    "\n",
    "test_input_primitives = test_primitives(test_instance_path) #finds primitives in test input\n",
    "print('-- Primitives found in test input --')\n",
    "\n",
    "# final LLM call to predict test output from test input primitives and predicted rules\n",
    "test_pass = llm.call(\"test_pass\", rule_explanation=rule_explanation, test_input_primitives=test_input_primitives, track_usage=False)\n",
    "print(f'Test output predicted:{test_pass}\\n')"
   ]
  },
  {
   "cell_type": "markdown",
   "id": "13347c84",
   "metadata": {},
   "source": [
    "### Iterative pipeline\n",
    "\n",
    "1. read (asp_program + facts)\n",
    "2. 'primitives_list' = run_clingo + print_models\n",
    "3. for set in 'primitives_list':\n",
    "    'rule_explanation' = iterative_pass(set)\n",
    "    keep refining rule_explanation\n",
    "4. read (asp_program + test_facts)\n",
    "5. 'test_input_primitives' = run_clingo + print_models\n",
    "6. test_pass('rule_explanation','test_input_primitives')"
   ]
  },
  {
   "cell_type": "code",
   "execution_count": 14,
   "id": "93316c7b",
   "metadata": {},
   "outputs": [],
   "source": [
    "instance = 'train_instances/1'"
   ]
  },
  {
   "cell_type": "code",
   "execution_count": 15,
   "id": "f57d25c6",
   "metadata": {},
   "outputs": [
    {
     "data": {
      "text/plain": [
       "['Results for grid3.lp:\\nInput grid:\\n grid_size(input,3,3) point(input,(0,1),gray) point(input,(1,2),gray) point(input,(2,1),gray)\\n\\nOutput grid:\\n grid_size(output,3,3) horizontal_line(output,start(0,0),end(0,2),color(yellow),length(3)) horizontal_line(output,start(1,0),end(1,2),color(green),length(3)) horizontal_line(output,start(2,0),end(2,2),color(yellow),length(3))\\n\\n========================================\\n',\n",
       " 'Results for grid2.lp:\\nInput grid:\\n grid_size(input,3,3) point(input,(0,0),gray) point(input,(1,1),gray) point(input,(2,0),gray)\\n\\nOutput grid:\\n grid_size(output,3,3) horizontal_line(output,start(0,0),end(0,2),color(red),length(3)) horizontal_line(output,start(1,0),end(1,2),color(yellow),length(3)) horizontal_line(output,start(2,0),end(2,2),color(red),length(3))\\n\\n========================================\\n',\n",
       " 'Results for grid1.lp:\\nInput grid:\\n grid_size(input,3,3) vertical_line(input,start(0,2),end(2,2),color(gray),length(3))\\n\\nOutput grid:\\n grid_size(output,3,3) horizontal_line(output,start(0,0),end(0,2),color(green),length(3)) horizontal_line(output,start(1,0),end(1,2),color(green),length(3)) horizontal_line(output,start(2,0),end(2,2),color(green),length(3)) vertical_line(output,start(0,0),end(2,0),color(green),length(3)) vertical_line(output,start(0,1),end(2,1),color(green),length(3)) vertical_line(output,start(0,2),end(2,2),color(green),length(3))\\n\\n========================================\\n',\n",
       " 'Results for grid0.lp:\\nInput grid:\\n grid_size(input,3,3) point(input,(0,2),gray) point(input,(1,1),gray) point(input,(2,0),gray)\\n\\nOutput grid:\\n grid_size(output,3,3) horizontal_line(output,start(0,0),end(0,2),color(green),length(3)) horizontal_line(output,start(1,0),end(1,2),color(yellow),length(3)) horizontal_line(output,start(2,0),end(2,2),color(red),length(3))\\n\\n========================================\\n']"
      ]
     },
     "execution_count": 15,
     "metadata": {},
     "output_type": "execute_result"
    }
   ],
   "source": [
    "primitives_list = iterative_solve(instance) #finds primitives in examples (except test input)\n",
    "primitives_list"
   ]
  },
  {
   "cell_type": "code",
   "execution_count": 21,
   "id": "0bf93512",
   "metadata": {},
   "outputs": [
    {
     "name": "stdout",
     "output_type": "stream",
     "text": [
      "Previous input-output grid primitives:\n",
      "{previous_primitives}\n",
      "\n",
      "Previous predicted rule explanation:\n",
      "{previous_rule_explanation}\n",
      "\n",
      "Input-output pair primitives {idx} out of {n_examples}:\n",
      "{primitives}\n",
      "\n"
     ]
    }
   ],
   "source": [
    "prompts = load_prompts(\"prompts.yaml\")\n",
    "print(prompts['iterative_pass']['user'])"
   ]
  },
  {
   "cell_type": "code",
   "execution_count": null,
   "id": "d5169a28",
   "metadata": {},
   "outputs": [
    {
     "name": "stdout",
     "output_type": "stream",
     "text": [
      "--- Iteration 1 of 4 ---\n",
      "--- Iteration 2 of 4 ---\n",
      "--- Iteration 3 of 4 ---\n",
      "--- Iteration 4 of 4 ---\n"
     ]
    }
   ],
   "source": [
    "for idx, model in enumerate(primitives_list):\n",
    "\n",
    "    print(f'--- Iteration {idx+1} of {len(primitives_list)} ---')\n",
    "    n_examples = len(primitives_list)\n",
    "    seen_primitives = str(primitives_list[:idx])\n",
    "    previous_rule_explanation = rule_explanation if idx > 0 else \"N/A\"\n",
    "\n",
    "    if idx == 0:\n",
    "        rule_explanation = llm.call(\"first_pass\", n_examples=n_examples, primitives=model, track_usage=False) #LLM call to predict transformation rules in examples\n",
    "\n",
    "    else:\n",
    "        rule_explanation = llm.call(\"iterative_pass\", \n",
    "                                    previous_primitives=seen_primitives, \n",
    "                                    previous_rule_explanation=previous_rule_explanation, \n",
    "                                    idx=idx,\n",
    "                                    n_examples=n_examples,\n",
    "                                    primitives=model,\n",
    "                                    track_usage=False) #LLM call to predict transformation rules in examples\n",
    "\n",
    "\n",
    "    print(f'Transformation rules predicted for example:{rule_explanation}\\n')\n"
   ]
  },
  {
   "cell_type": "code",
   "execution_count": 24,
   "id": "ffc6d8e2",
   "metadata": {},
   "outputs": [
    {
     "name": "stdout",
     "output_type": "stream",
     "text": [
      "**Re-evaluation of Previous Predictions Based on New Input-Output Pair:**\n",
      "\n",
      "1. **Input Grid Description:**\n",
      "   - The grid is 3x3.\n",
      "   - There are three gray points located at (0,2), (1,1), and (2,0).\n",
      "\n",
      "2. **Output Grid Description:**\n",
      "   - The grid remains 3x3.\n",
      "   - Three horizontal lines fill each row:\n",
      "     - Row 0 is filled with green.\n",
      "     - Row 1 is filled with yellow.\n",
      "     - Row 2 is filled with red.\n",
      "\n",
      "**Analysis of New Example Against Previous Patterns:**\n",
      "\n",
      "- The new input-output pair further confirms that when isolated gray points are present in the input grid, each row in the output grid is filled with horizontal lines of alternating colors (similar to previous instances with points).\n",
      "- The presence of isolated points results in varied colors for each row rather than a uniform color as seen with vertical input lines.\n",
      "\n",
      "**Refined Rule Description:**\n",
      "\n",
      "1. **Grid Size:**\n",
      "   - The grid size in both input and output remains 3x3.\n",
      "\n",
      "2. **Transformation Process:**\n",
      "   - Each row is consistently transformed into a full horizontal line across all columns in the output grid.\n",
      "\n",
      "3. **Color Assignment:**\n",
      "   - When the input contains:\n",
      "     - **Isolated Points:** The output rows are filled with alternating colors (seen as a sequence of green, yellow, red, etc.).\n",
      "     - **Vertical Line:** The output grid is uniformly filled with horizontal and vertical lines of a single color, green.\n",
      "\n",
      "**Conclusion:**\n",
      "\n",
      "The presence of isolated gray points versus a gray vertical line in the input dictates not only the structural form of the resulting output (horizontal lines spanning rows) but also the color pattern. This single-color or alternating color pattern arises based on observed primitives within the input configuration. The new pair strengthens the relationship between input structure type and color, reinforcing the variability in color rules depending on input characteristics. Further pairs could help elucidate additional nuances or any exceptions to these patterns.\n"
     ]
    }
   ],
   "source": [
    "print(rule_explanation)"
   ]
  },
  {
   "cell_type": "code",
   "execution_count": 26,
   "id": "11238d4d",
   "metadata": {},
   "outputs": [],
   "source": [
    "test_input_primitives = test_primitives('train_instances/1/grid_test.lp') #finds primitives in test input\n",
    "\n",
    "\n",
    "test_pass = llm.call(\"test_pass\", rule_explanation=rule_explanation, test_input_primitives=test_input_primitives, track_usage=False)\n"
   ]
  },
  {
   "cell_type": "code",
   "execution_count": 27,
   "id": "f2dd554f",
   "metadata": {},
   "outputs": [
    {
     "name": "stdout",
     "output_type": "stream",
     "text": [
      "Based on the refined rule description and the given input grid for the test case, we need to apply the identified transformation process to generate the output grid. Let's break down the steps:\n",
      "\n",
      "### Test Input Grid:\n",
      "\n",
      "- **Grid Size**: 3x3\n",
      "- **Points**: \n",
      "  - (0,2), color: gray\n",
      "  - (1,0), color: gray\n",
      "  - (2,1), color: gray\n",
      "\n",
      "### Transformation Process:\n",
      "\n",
      "1. **Grid Size**: The output grid maintains the same size as the input grid, which is 3x3.\n",
      "\n",
      "2. **Output Grid Structure**: Each row of the input grid will correspond to a fully filled horizontal line in the output grid. \n",
      "\n",
      "3. **Color Assignment**:\n",
      "   - Row 0 will be filled with the first color in the sequence: Green.\n",
      "   - Row 1 will be filled with the second color in the sequence: Yellow.\n",
      "   - Row 2 will be filled with the third color in the sequence: Red.\n",
      "\n",
      "### Applying the Transformation:\n",
      "\n",
      "- **Row 0**: Will be fully filled with Green.\n",
      "- **Row 1**: Will be fully filled with Yellow.\n",
      "- **Row 2**: Will be fully filled with Red.\n",
      "\n",
      "### Constructing the Output Grid:\n",
      "\n",
      "```\n",
      "Output Grid:\n",
      "Green  Green  Green\n",
      "Yellow Yellow Yellow\n",
      "Red    Red    Red\n",
      "```\n",
      "\n",
      "This results in the following 3x3 output grid:\n",
      "\n",
      "- Cell (0,0): Green\n",
      "- Cell (0,1): Green\n",
      "- Cell (0,2): Green\n",
      "- Cell (1,0): Yellow\n",
      "- Cell (1,1): Yellow\n",
      "- Cell (1,2): Yellow\n",
      "- Cell (2,0): Red\n",
      "- Cell (2,1): Red\n",
      "- Cell (2,2): Red\n",
      "\n",
      "This implementation respects the transformation rule observed from the example provided. The colors have been assigned according to the position of each row, following the sequence established from the prior analysis.\n"
     ]
    }
   ],
   "source": [
    "print(test_pass)"
   ]
  },
  {
   "cell_type": "markdown",
   "id": "5a4d222f",
   "metadata": {},
   "source": [
    "### Translation & Evaluation"
   ]
  },
  {
   "cell_type": "code",
   "execution_count": 6,
   "id": "0bc3d7be",
   "metadata": {},
   "outputs": [],
   "source": [
    "from utils import is_executable_asp"
   ]
  },
  {
   "cell_type": "code",
   "execution_count": 3,
   "id": "376137e6",
   "metadata": {},
   "outputs": [],
   "source": [
    "test_pass = \"\"\"\n",
    "Assumption (from the provided rule set): counts map to colours as 1 → green, 2 → yellow, 3 → red. No full-height vertical input line is present, so no override applies.\n",
    "\n",
    "Input row counts:\n",
    "- Row 0: 1 gray cell\n",
    "- Row 1: 1 gray cell\n",
    "- Row 2: 1 gray cell\n",
    "\n",
    "Apply rule: each output row becomes a full horizontal stripe whose colour is the colour for that row's count (count=1 → green). Therefore every row is green and the entire 3×3 output is filled green.\n",
    "\n",
    "Output primitives:\n",
    "- grid_size(output,3,3)\n",
    "- horizontal_line(output,(0,0),(0,2),green,3))\n",
    "- horizontal_line(output,(1,0),(1,2),green,3)\n",
    "- horizontal_line(output,(2,0),(2,2),green,3)\n",
    "\n",
    "Visual (rows shown top→bottom): \n",
    "[green, green, green]\n",
    "[green, green, green]\n",
    "[green, green, green]\n",
    "\"\"\"\n"
   ]
  },
  {
   "cell_type": "code",
   "execution_count": null,
   "id": "4cd647fa",
   "metadata": {},
   "outputs": [],
   "source": []
  },
  {
   "cell_type": "code",
   "execution_count": 4,
   "id": "76d8fc8c",
   "metadata": {},
   "outputs": [
    {
     "name": "stdout",
     "output_type": "stream",
     "text": [
      "Input grid:\n",
      " grid_size(input,3,3) point(input,(0,2),gray) point(input,(1,0),gray) point(input,(2,1),gray)\n",
      "\n",
      "Output grid:\n",
      " \n",
      "\n",
      "========================================\n",
      "\n"
     ]
    }
   ],
   "source": [
    "test_input_primitives = test_primitives('train_instances/1/grid_test.lp') #finds primitives in test input\n",
    "print(test_input_primitives)"
   ]
  },
  {
   "cell_type": "code",
   "execution_count": 10,
   "id": "6c1484fa",
   "metadata": {},
   "outputs": [],
   "source": [
    "\n",
    "asp_output_grid = llm.call(\"translate_to_asp\", test_input_primitives=test_input_primitives,\n",
    "                           test_output_prediction=test_pass, \n",
    "                           track_usage=False) #LLM call to predict transformation rules in examples\n"
   ]
  },
  {
   "cell_type": "code",
   "execution_count": 16,
   "id": "264f8efe",
   "metadata": {},
   "outputs": [
    {
     "name": "stdout",
     "output_type": "stream",
     "text": [
      "grid_size(output,3,3).\n",
      "horizontal_line(output,start(0,0),end(0,2),color(green)).\n",
      "horizontal_line(output,start(1,0),end(1,2),color(green)).\n",
      "horizontal_line(output,start(2,0),end(2,2),color(green)).\n"
     ]
    }
   ],
   "source": [
    "print(asp_output_grid)"
   ]
  },
  {
   "cell_type": "code",
   "execution_count": 7,
   "id": "d81c74ae",
   "metadata": {},
   "outputs": [],
   "source": [
    "test_syntax_error = \"\"\"grid_size(output,3,3).\n",
    "horizontal_line(output,start(0,0),end(0,2),color(green)).\n",
    "horizontal_line(output,start(1,0),end(1,2),color(green)).\n",
    "horizontal_line(output,start(2,0),end(2,2),color(green)).\"\"\""
   ]
  },
  {
   "cell_type": "markdown",
   "id": "b5d64a13",
   "metadata": {},
   "source": [
    "#### is_executable logic block, fixes syntax errors"
   ]
  },
  {
   "cell_type": "code",
   "execution_count": 8,
   "id": "37ec4c9e",
   "metadata": {},
   "outputs": [
    {
     "name": "stdout",
     "output_type": "stream",
     "text": [
      "The ASP code is executable and produces output.\n"
     ]
    }
   ],
   "source": [
    "outcome = is_executable_asp(test_syntax_error)\n",
    "if outcome == True:\n",
    "    print(\"The ASP code is executable and produces output.\")\n",
    "else:\n",
    "    print(\"Not executable:\")\n",
    "    revised_asp = llm.call(\"fix_asp_code\", error_message=outcome, \n",
    "                           test_input_primitives=test_input_primitives,\n",
    "                            test_output_prediction=test_pass,\n",
    "                           track_usage=False)\n",
    "\n",
    "    print(f'Revised ASP code:\\n{revised_asp}')\n",
    "    if is_executable_asp(revised_asp) == True:\n",
    "        print(\"The revised ASP code is now executable and produces output.\")\n",
    "    else:\n",
    "        print(\"The revised ASP code is still not executable.\")"
   ]
  },
  {
   "cell_type": "code",
   "execution_count": 9,
   "id": "1853e68c",
   "metadata": {},
   "outputs": [
    {
     "ename": "NameError",
     "evalue": "name 'asp_output_grid' is not defined",
     "output_type": "error",
     "traceback": [
      "\u001b[0;31m---------------------------------------------------------------------------\u001b[0m",
      "\u001b[0;31mNameError\u001b[0m                                 Traceback (most recent call last)",
      "Cell \u001b[0;32mIn[9], line 1\u001b[0m\n\u001b[0;32m----> 1\u001b[0m \u001b[38;5;28mprint\u001b[39m(\u001b[43masp_output_grid\u001b[49m)\n",
      "\u001b[0;31mNameError\u001b[0m: name 'asp_output_grid' is not defined"
     ]
    }
   ],
   "source": [
    "print(asp_output_grid)"
   ]
  },
  {
   "cell_type": "code",
   "execution_count": null,
   "id": "8e588aec",
   "metadata": {},
   "outputs": [],
   "source": [
    "i = \"\"\"\n",
    "- grid_size(output,3,3)\n",
    "- horizontal_line(output,(0,0),(0,2),green,3))\n",
    "- horizontal_line(output,(1,0),(1,2),green,3)\n",
    "- horizontal_line(output,(2,0),(2,2),green,3)\n",
    "\"\"\"\n",
    "\n",
    "if is_executable_asp(i):\n",
    "    print(\"The ASP code is executable and produces output.\")\n",
    "\n",
    "else:\n",
    "    revised_asp = llm.call(\"fix_asp_code\", error_message=i, track_usage=False)"
   ]
  },
  {
   "cell_type": "markdown",
   "id": "f632e3a1",
   "metadata": {},
   "source": [
    "### build grid"
   ]
  },
  {
   "cell_type": "code",
   "execution_count": 1,
   "id": "3f28246f",
   "metadata": {},
   "outputs": [],
   "source": [
    "from utils import build_and_eval"
   ]
  },
  {
   "cell_type": "code",
   "execution_count": 2,
   "id": "cc488962",
   "metadata": {},
   "outputs": [],
   "source": [
    "executable_output = \"\"\"\n",
    "grid_size(output,3,3).\n",
    "horizontal_line(output,start(0,0),end(0,2),color(green)).\n",
    "horizontal_line(output,start(1,0),end(1,2),color(red)).\n",
    "horizontal_line(output,start(2,0),end(2,2),color(yellow)).\n",
    "point(output,(2,0),color(green)).\n",
    "\"\"\""
   ]
  },
  {
   "cell_type": "code",
   "execution_count": 3,
   "id": "94f87026",
   "metadata": {},
   "outputs": [],
   "source": [
    "result = build_and_eval(prediction=executable_output)"
   ]
  },
  {
   "cell_type": "code",
   "execution_count": 4,
   "id": "99c02fc3",
   "metadata": {},
   "outputs": [
    {
     "name": "stdout",
     "output_type": "stream",
     "text": [
      "The predicted output grid does not match the actual output grid. Failure.\n",
      "Here are the attempted primitives:\n",
      "\n",
      "grid_size(output,3,3).\n",
      "horizontal_line(output,start(0,0),end(0,2),color(green)).\n",
      "horizontal_line(output,start(1,0),end(1,2),color(red)).\n",
      "horizontal_line(output,start(2,0),end(2,2),color(yellow)).\n",
      "point(output,(2,0),color(green)).\n",
      "\n",
      "Here are the errors in the output:\n",
      "incorrect_cell((2,0),(predicted(green),correct(yellow))) incorrect_cell((2,0),duplicate(green,yellow)) incorrect_cell((2,0),duplicate(yellow,green)) incorrect_grid\n"
     ]
    }
   ],
   "source": [
    "result = build_and_eval(prediction=executable_output)\n",
    "\n",
    "if result == 'correct_grid':\n",
    "    print(\"The predicted output grid matches the actual output grid. Success!\")\n",
    "else:\n",
    "    print(\"The predicted output grid does not match the actual output grid. Failure.\")\n",
    "    print(f\"Here are the attempted primitives:\\n{executable_output}\")\n",
    "    print(f\"Here are the errors in the output:\\n{result}\")"
   ]
  },
  {
   "cell_type": "code",
   "execution_count": null,
   "id": "7717d6b9",
   "metadata": {},
   "outputs": [],
   "source": []
  }
 ],
 "metadata": {
  "kernelspec": {
   "display_name": "IM",
   "language": "python",
   "name": "python3"
  },
  "language_info": {
   "codemirror_mode": {
    "name": "ipython",
    "version": 3
   },
   "file_extension": ".py",
   "mimetype": "text/x-python",
   "name": "python",
   "nbconvert_exporter": "python",
   "pygments_lexer": "ipython3",
   "version": "3.9.23"
  }
 },
 "nbformat": 4,
 "nbformat_minor": 5
}
